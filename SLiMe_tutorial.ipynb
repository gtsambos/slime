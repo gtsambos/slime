{
 "cells": [
  {
   "cell_type": "markdown",
   "metadata": {},
   "source": [
    "SLiMe is a package that allows the user to simulate large-scale genomic data under realistically complex demographic histories while retaining information about local ancestry.\n",
    "\n",
    "This notebook describes how to use SLiMe.\n",
    "\n",
    "### Basic procedure\n",
    "\n",
    "1. Recent history since the start of admixture is simulated forward-in-time with `SLiM`.\n",
    "2. Older history of the ancestral populations is simulated backwards-in-time with `msprime`."
   ]
  },
  {
   "cell_type": "markdown",
   "metadata": {},
   "source": [
    "### Packages"
   ]
  },
  {
   "cell_type": "code",
   "execution_count": 1,
   "metadata": {},
   "outputs": [],
   "source": [
    "import slime, msprime, pyslim"
   ]
  },
  {
   "cell_type": "markdown",
   "metadata": {},
   "source": [
    "(Note: For now I've installed my local version of tskit that allows unary nodes to kept while simplifying - but use the proper version once the next tskit release is out!)"
   ]
  },
  {
   "cell_type": "code",
   "execution_count": 2,
   "metadata": {},
   "outputs": [
    {
     "name": "stdout",
     "output_type": "stream",
     "text": [
      "Processing ./tskit-0.1.6.dev0.tar.gz\n",
      "Requirement already satisfied: numpy>=1.7 in /usr/local/lib/python3.7/site-packages (from tskit==0.1.6.dev0) (1.15.4)\n",
      "Requirement already satisfied: h5py in /usr/local/lib/python3.7/site-packages (from tskit==0.1.6.dev0) (2.8.0)\n",
      "Requirement already satisfied: svgwrite in /usr/local/lib/python3.7/site-packages (from tskit==0.1.6.dev0) (1.2.1)\n",
      "Requirement already satisfied: jsonschema in /usr/local/lib/python3.7/site-packages (from tskit==0.1.6.dev0) (2.6.0)\n",
      "Requirement already satisfied: six in /usr/local/lib/python3.7/site-packages (from h5py->tskit==0.1.6.dev0) (1.11.0)\n",
      "Requirement already satisfied: pyparsing>=2.0.1 in /usr/local/lib/python3.7/site-packages (from svgwrite->tskit==0.1.6.dev0) (2.3.0)\n",
      "Building wheels for collected packages: tskit\n",
      "  Running setup.py bdist_wheel for tskit ... \u001b[?25ldone\n",
      "\u001b[?25h  Stored in directory: /Users/gtsambos/Library/Caches/pip/wheels/ee/67/b5/0a568d34bc8bb222f35ac2c0dd4e3152f678f1595763d27df1\n",
      "Successfully built tskit\n",
      "Installing collected packages: tskit\n",
      "  Found existing installation: tskit 0.1.6.dev0\n",
      "    Uninstalling tskit-0.1.6.dev0:\n",
      "      Successfully uninstalled tskit-0.1.6.dev0\n",
      "Successfully installed tskit-0.1.6.dev0\n"
     ]
    }
   ],
   "source": [
    "import sys\n",
    "!{sys.executable} -m pip install tskit-0.1.6.dev0.tar.gz"
   ]
  },
  {
   "cell_type": "code",
   "execution_count": 3,
   "metadata": {},
   "outputs": [],
   "source": [
    "import tskit"
   ]
  },
  {
   "cell_type": "markdown",
   "metadata": {},
   "source": [
    "## Inputs"
   ]
  },
  {
   "cell_type": "markdown",
   "metadata": {},
   "source": [
    "**Necessary - SLiM script**\n",
    "\n",
    "You must input a SLiM script that simulates the history of your admixed sample from the start of admixture until the present day.\n",
    "\n",
    "See the [SLiM Manual](http://benhaller.com/slim/SLiM_Manual.pdf) for how to use the Eidos scripting language.\n",
    "\n",
    "For the purposes of this notebook, here's a script for a simple two-way admixture under neutrality."
   ]
  },
  {
   "cell_type": "code",
   "execution_count": 4,
   "metadata": {},
   "outputs": [],
   "source": [
    "slim_script = '''\n",
    "// set up a simple neutral simulation\n",
    "initialize() {\n",
    "\t\n",
    "\t// Set constants.\n",
    "\tdefineConstant(\"chromLength\", 49999999);\n",
    "\tdefineConstant(\"p0Size\", 1000);\n",
    "\tdefineConstant(\"p1Size\", 1000);\n",
    "\tdefineConstant(\"p2Size\", 1000);\n",
    "\tdefineConstant(\"p0Prop\", 10/100);\n",
    "\tdefineConstant(\"p1Prop\", 1 - p0Prop);\n",
    "\n",
    "\tinitializeSLiMModelType(\"WF\");\n",
    "\tinitializeSLiMOptions(keepPedigrees = T); // Keep pedigree information\n",
    "\tinitializeTreeSeq();\n",
    "\tinitializeMutationRate(0);\n",
    "\t\n",
    "\t// m1 mutation type: neutral\n",
    "\tinitializeMutationType(\"m1\", 0.5, \"f\", 0.0);\n",
    "\t\n",
    "\t// g1 genomic element type: uses m1 for all mutations\n",
    "\tinitializeGenomicElementType(\"g1\", m1, 1.0);\n",
    "\t\n",
    "\t// uniform chromosome of length 100 kb\n",
    "\tinitializeGenomicElement(g1, 0, chromLength);\n",
    "\t\n",
    "\t// read in chr22 recombination map.\n",
    "\t// See example 6.1.2 in the SLiM manual.\n",
    "\tlines = readFile(\"examples/chr22.recombination_map\");\n",
    "\tlines = lines[1:(size(lines)-1)]; // remove header\n",
    "\trates = NULL;\n",
    "\tends = NULL;\n",
    "\t\n",
    "\tfor (line in lines)\n",
    "\t{\n",
    "\t\tcomponents = strsplit(line, \" \");\n",
    "\t\tends = c(ends, asInteger(components[1]));\n",
    "\t\trates = c(rates, asFloat(components[2]));\n",
    "\t}\n",
    "\t\n",
    "\tends = ends - 1; // final coordinate in file is 50 000 000\n",
    "\trates = rates * 1e-8;\n",
    "\t\n",
    "\tinitializeRecombinationRate(rates, ends);\n",
    "\t\n",
    "}\n",
    "\n",
    "1 early(){\n",
    "\tsim.addSubpop(\"p0\", p0Size);\n",
    "\tsim.addSubpop(\"p1\", p1Size);\n",
    "\n",
    "//\tsim.treeSeqRememberIndividuals(sim.subpopulations.individuals);\n",
    "}\n",
    "\n",
    "1 late() { \n",
    "\t\n",
    "\t// Add admixing population.\n",
    "\tsim.addSubpop(\"p2\", p2Size);\n",
    "\tp2.setMigrationRates(c(p0,p1),c(p0Prop, p1Prop));\n",
    "\t\n",
    "}\n",
    "\n",
    "\n",
    "2 late() {\n",
    "\n",
    "\tp2.setMigrationRates(c(p0,p1),c(0.0,0.0));\n",
    "\n",
    "}\n",
    "\n",
    "\n",
    "// save the tree output after 200 generations.\n",
    "200 late() {\n",
    " \tsim.treeSeqOutput(\"examples/recent-history.trees\");\n",
    "\tsim.simulationFinished();\n",
    "}\n",
    "'''\n",
    "\n",
    "slim_file = open(\"examples/slim_script.slim\", \"w\")\n",
    "slim_file.writelines(slim_script)\n",
    "slim_file.close()"
   ]
  },
  {
   "cell_type": "markdown",
   "metadata": {},
   "source": [
    "**Necessary - ancient population configurations, demographic history and recombination rate**\n",
    "\n",
    "At this stage, only a uniform recombination rate can be used, though this may change in the future."
   ]
  },
  {
   "cell_type": "code",
   "execution_count": 5,
   "metadata": {},
   "outputs": [],
   "source": [
    "rho = 1e-8 # recombination rate. \n"
   ]
  },
  {
   "cell_type": "code",
   "execution_count": 6,
   "metadata": {},
   "outputs": [],
   "source": [
    "######################\n",
    "# POPULATION HISTORY #\n",
    "######################\n",
    "N0 = 1e4 # population size\n",
    "divergenceGen = 1000\n",
    "\n",
    "# Population IDs\n",
    "population_configurations = [\n",
    "    # CEU\n",
    "    msprime.PopulationConfiguration(\n",
    "        initial_size = N0,\n",
    "        growth_rate = 0),\n",
    "    # YRI\n",
    "    msprime.PopulationConfiguration(                                \n",
    "        initial_size = N0,                                \n",
    "        growth_rate = 0),\n",
    "    # ASW - needed as a 'dummy'\n",
    "    msprime.PopulationConfiguration(\n",
    "        sample_size = 0,                                                              \n",
    "        growth_rate = 0)\n",
    "]\n",
    "\n",
    "demographic_events = [\n",
    "\tmsprime.MassMigration(\n",
    "\t\ttime=divergenceGen,\n",
    "\t\tsource = 1,\n",
    "\t\tdestination = 0,\n",
    "\t\tproportion = 1.0),\n",
    "\tmsprime.MigrationRateChange(time = divergenceGen,\n",
    "\t\trate = 0)\n",
    "]"
   ]
  },
  {
   "cell_type": "markdown",
   "metadata": {},
   "source": [
    "**Optional - neutral mutation rate**\n",
    "\n",
    "By default this is 0."
   ]
  },
  {
   "cell_type": "code",
   "execution_count": 7,
   "metadata": {},
   "outputs": [],
   "source": [
    "mu = 1e-8 # rate of neutral mutations"
   ]
  },
  {
   "cell_type": "markdown",
   "metadata": {},
   "source": [
    "**Optional - Recombination map**\n",
    "\n",
    "A recombination map for the admixed history can be given. \n",
    "The file should look like the one below.\n",
    "Ensure that the final row of the recombination map corresponds to the length of the chromosome that you wish to simulate.\n",
    "\n",
    "```\n",
    "Chromosome position COMBINED_rate(cM/Mb) Genetic_Map(cM)\n",
    "22 16051347 9.6640973708 0\n",
    "22 16052618 9.7078062447 0.0123386217370137\n",
    "22 16053624 9.7138922111 0.0221107973013803\n",
    "22 16053659 9.716343506 0.0224508693240903\n",
    "22 16053758 9.707808785 0.0234119423938053\n",
    "22 16054713 9.5801157234 0.0325609529096523\n",
    "22 16054960 9.5805112114 0.0349273391788681\n",
    ".\n",
    ".\n",
    ".\n",
    "22 49991555 0.1286194771 73.1460580463483\n",
    "22 49991660 0.1286937712 73.1460715591943\n",
    "22 49992695 0.1297177603 73.1462058170762\n",
    "22 49993745 0.1310658564 73.1463434362254\n",
    "22 49994152 0.1310658564 73.146396780029\n",
    "22 49997158 0.1310658564 73.1467907639933\n",
    "22 49997614 0.1310667948 73.1468505304517\n",
    "22 49997706 0.1313729993 73.1468626167677\n",
    "22 49997967 0.1313729993 73.1468969051205\n",
    "22 50000000 0.1315909877 73.1470166529193\n",
    "```"
   ]
  },
  {
   "cell_type": "markdown",
   "metadata": {},
   "source": [
    "## How to use the package"
   ]
  },
  {
   "cell_type": "code",
   "execution_count": 8,
   "metadata": {},
   "outputs": [],
   "source": [
    "import slime"
   ]
  },
  {
   "cell_type": "markdown",
   "metadata": {},
   "source": [
    "First, initialise an `AdmixtureSimulation` object containing all the desired inputs."
   ]
  },
  {
   "cell_type": "code",
   "execution_count": 9,
   "metadata": {},
   "outputs": [],
   "source": [
    "mysim = slime.AdmixtureSimulation(\"examples/slim_script.slim\", \n",
    "                                  populations_to_sample_from = [2], sample_sizes = [10],\n",
    "                                  neutral_mutation_rate = mu,\n",
    "                                  ancient_recombination_rate = rho,\n",
    "                                ancient_population_configurations = population_configurations,\n",
    "                                 ancient_demographic_events = demographic_events,\n",
    "                                 out_file = \"examples/out.trees\")"
   ]
  },
  {
   "cell_type": "markdown",
   "metadata": {},
   "source": [
    "Next, run the debugger. At the moment, this debugger must be run before the simulation. I may change this in the future, but I will strongly recommend users to run the debugger first as there are many tricksy ways that incorrectly-specified inputs could mess up the simulation, and the warnings outputted can be pretty inscrutable."
   ]
  },
  {
   "cell_type": "code",
   "execution_count": 10,
   "metadata": {},
   "outputs": [
    {
     "name": "stdout",
     "output_type": "stream",
     "text": [
      "\n",
      "SLiM input file: examples/slim_script.slim\n",
      "SLiM output file: examples/recent-history.trees\n",
      "We are sampling:\n",
      "- 10 individuals from population 2\n",
      "Ancient demography:\n",
      "==============================\n",
      "Epoch: 0 -- 1000.0 generations\n",
      "==============================\n",
      "     start     end      growth_rate |     0        1        2    \n",
      "   -------- --------       -------- | -------- -------- -------- \n",
      "0 |  1e+04    1e+04               0 |     0        0        0    \n",
      "1 |  1e+04    1e+04               0 |     0        0        0    \n",
      "2 |    1        1                 0 |     0        0        0    \n",
      "\n",
      "Events @ generation 1000.0\n",
      "   - Mass migration: lineages move from 1 to 0 with probability 1.0\n",
      "   - Migration rate change to 0 everywhere\n",
      "================================\n",
      "Epoch: 1000.0 -- inf generations\n",
      "================================\n",
      "     start     end      growth_rate |     0        1        2    \n",
      "   -------- --------       -------- | -------- -------- -------- \n",
      "0 |  1e+04    1e+04               0 |     0        0        0    \n",
      "1 |  1e+04    1e+04               0 |     0        0        0    \n",
      "2 |    1        1                 0 |     0        0        0    \n",
      "\n",
      "Neutral mutation rate: 1e-08\n"
     ]
    }
   ],
   "source": [
    "ts = mysim.debugger()"
   ]
  },
  {
   "cell_type": "markdown",
   "metadata": {},
   "source": [
    "After the debugger has run, the `go()` method can be used to generate an admixed tree sequence with the specified history."
   ]
  },
  {
   "cell_type": "code",
   "execution_count": 11,
   "metadata": {},
   "outputs": [
    {
     "name": "stdout",
     "output_type": "stream",
     "text": [
      "Simulating recent history with SLiM...\n",
      "Taking samples from present day populations...\n",
      "Simulating ancient history with msprime...\n",
      "Adding variation...\n"
     ]
    }
   ],
   "source": [
    "ts1 = mysim.go()"
   ]
  },
  {
   "cell_type": "markdown",
   "metadata": {},
   "source": [
    "Note that if desired, this method can be used several times to obtain replications."
   ]
  },
  {
   "cell_type": "markdown",
   "metadata": {},
   "source": [
    "# Individual steps: what's going on under the hood?\n",
    "\n",
    "Here are the individual processes that happen inside this method.\n",
    "\n",
    "## Step 1: Simulate recent history forward-in-time with SLiM."
   ]
  },
  {
   "cell_type": "markdown",
   "metadata": {},
   "source": [
    "The `simulate_recent_history` function is a wrapper for running SLiM via python."
   ]
  },
  {
   "cell_type": "code",
   "execution_count": 12,
   "metadata": {},
   "outputs": [],
   "source": [
    "slime.simulate_recent_history(\"examples/slim_script.slim\", outFile = \"examples/recent-history.trees\",\n",
    "                             logFile = \"examples/recent-history.log\")"
   ]
  },
  {
   "cell_type": "markdown",
   "metadata": {},
   "source": [
    "At the end of the SLiM script, you must save the output as a tree sequence using the `TreeSeqOutput` function. The debugger will return an error if you don't.\n",
    "\n",
    "*Could add: a simple function that adds this line into the SLiM script if it isn't in there already.*"
   ]
  },
  {
   "cell_type": "markdown",
   "metadata": {},
   "source": [
    "## Step 2 (optional): subsample population"
   ]
  },
  {
   "cell_type": "markdown",
   "metadata": {},
   "source": [
    "`SLiM` generates a tree sequence that holds the chromosomes of *entire populations*. If you are interested in only a subset of the simulated population, this tree sequence will contain a lot of redundant history. \n",
    "\n",
    "You can use `slime` to choose a random sample of individuals from the generated tree sequence and simplify the tree sequence so that only the history relevant to these samples is retained.\n",
    "\n",
    "*To add: allow users to input any arbitrary list of nodes to use as samples.*"
   ]
  },
  {
   "cell_type": "code",
   "execution_count": 13,
   "metadata": {},
   "outputs": [],
   "source": [
    "ts = tskit.load(\"examples/recent-history.trees\")"
   ]
  },
  {
   "cell_type": "code",
   "execution_count": 14,
   "metadata": {},
   "outputs": [],
   "source": [
    "new_ts = slime.TreeSequenceToSample(\n",
    "    ts = ts,\n",
    "    populations_to_sample_from = [2],\n",
    "    sample_sizes = [10]\n",
    ")"
   ]
  },
  {
   "cell_type": "code",
   "execution_count": 15,
   "metadata": {},
   "outputs": [],
   "source": [
    "ts = new_ts.subsample()"
   ]
  },
  {
   "cell_type": "markdown",
   "metadata": {},
   "source": [
    "## Step 3: recapitation"
   ]
  },
  {
   "cell_type": "markdown",
   "metadata": {},
   "source": [
    "Next, we add the ancient history of the samples. This is generated with `msprime`.\n",
    "This step is basically just a wrapper for the `recapitate` function in `pyslim`.\n",
    "\n",
    "To do this, we need to add in some parameters pertaining to the ancient history of our sample.\n",
    "\n",
    "Note that, atm, you must specify a uniform recombination rate for the ancient history. This [may change in the future](https://github.com/tskit-dev/pyslim/blob/master/README.md#things-you-cannot-do)."
   ]
  },
  {
   "cell_type": "code",
   "execution_count": 17,
   "metadata": {},
   "outputs": [],
   "source": [
    "ts1 = pyslim.SlimTreeSequence.load_tables(ts.tables)\n"
   ]
  },
  {
   "cell_type": "code",
   "execution_count": 18,
   "metadata": {},
   "outputs": [],
   "source": [
    "recap = ts1.recapitate(\n",
    "\trecombination_rate=rho,\n",
    "\tpopulation_configurations = population_configurations,\n",
    "\tdemographic_events=demographic_events,\n",
    "    keep_first_generation = True\n",
    "\t)"
   ]
  },
  {
   "cell_type": "markdown",
   "metadata": {},
   "source": [
    "## Step 4: add in variation"
   ]
  },
  {
   "cell_type": "markdown",
   "metadata": {},
   "source": [
    "For the moment, let's assume all variation is neutral.\n",
    "\n",
    "*To add: allow non-neutral mutations that are generated in SLiM to be removed before recapitation with msprime, then added back in this step.*"
   ]
  },
  {
   "cell_type": "code",
   "execution_count": 19,
   "metadata": {},
   "outputs": [],
   "source": [
    "mut_ts = pyslim.SlimTreeSequence(msprime.mutate(recap, rate=mu, keep=True))"
   ]
  },
  {
   "cell_type": "code",
   "execution_count": null,
   "metadata": {},
   "outputs": [],
   "source": []
  }
 ],
 "metadata": {
  "kernelspec": {
   "display_name": "Python 3",
   "language": "python",
   "name": "python3"
  },
  "language_info": {
   "codemirror_mode": {
    "name": "ipython",
    "version": 3
   },
   "file_extension": ".py",
   "mimetype": "text/x-python",
   "name": "python",
   "nbconvert_exporter": "python",
   "pygments_lexer": "ipython3",
   "version": "3.7.1"
  }
 },
 "nbformat": 4,
 "nbformat_minor": 2
}
