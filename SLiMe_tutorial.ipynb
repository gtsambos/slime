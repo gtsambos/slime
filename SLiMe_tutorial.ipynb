{
 "cells": [
  {
   "cell_type": "markdown",
   "metadata": {},
   "source": [
    "SLiMe is a package that allows the user to simulate large-scale genomic data under realistically complex demographic histories while retaining information about local ancestry.\n",
    "\n",
    "This notebook describes how to use SLiMe.\n",
    "\n",
    "### Basic procedure\n",
    "\n",
    "1. Recent history since the start of admixture is simulated forward-in-time with `SLiM`.\n",
    "2. Older history of the ancestral populations is simulated backwards-in-time with `msprime`."
   ]
  },
  {
   "cell_type": "markdown",
   "metadata": {},
   "source": [
    "## Necessary inputs\n",
    "\n",
    "**Recombination map**\n",
    "\n",
    "A recombination map for the admixed history can be given. \n",
    "The file should look like the one below.\n",
    "Ensure that the final row of the recombination map corresponds to the length of the chromosome that you wish to simulate.\n",
    "\n",
    "```\n",
    "Chromosome position COMBINED_rate(cM/Mb) Genetic_Map(cM)\n",
    "22 16051347 9.6640973708 0\n",
    "22 16052618 9.7078062447 0.0123386217370137\n",
    "22 16053624 9.7138922111 0.0221107973013803\n",
    "22 16053659 9.716343506 0.0224508693240903\n",
    "22 16053758 9.707808785 0.0234119423938053\n",
    "22 16054713 9.5801157234 0.0325609529096523\n",
    "22 16054960 9.5805112114 0.0349273391788681\n",
    ".\n",
    ".\n",
    ".\n",
    "22 49991555 0.1286194771 73.1460580463483\n",
    "22 49991660 0.1286937712 73.1460715591943\n",
    "22 49992695 0.1297177603 73.1462058170762\n",
    "22 49993745 0.1310658564 73.1463434362254\n",
    "22 49994152 0.1310658564 73.146396780029\n",
    "22 49997158 0.1310658564 73.1467907639933\n",
    "22 49997614 0.1310667948 73.1468505304517\n",
    "22 49997706 0.1313729993 73.1468626167677\n",
    "22 49997967 0.1313729993 73.1468969051205\n",
    "22 50000000 0.1315909877 73.1470166529193\n",
    "```"
   ]
  },
  {
   "cell_type": "markdown",
   "metadata": {},
   "source": [
    "### Packages"
   ]
  },
  {
   "cell_type": "code",
   "execution_count": 1,
   "metadata": {},
   "outputs": [],
   "source": [
    "import slime, msprime, pyslim"
   ]
  },
  {
   "cell_type": "markdown",
   "metadata": {},
   "source": [
    "(Note: For now I've installed my local version of tskit that allows unary nodes to kept while simplifying - but use the proper version once the next tskit release is out!!!)"
   ]
  },
  {
   "cell_type": "code",
   "execution_count": 2,
   "metadata": {},
   "outputs": [
    {
     "name": "stdout",
     "output_type": "stream",
     "text": [
      "Processing ./tskit-0.1.6.dev0.tar.gz\n",
      "Requirement already satisfied: numpy>=1.7 in /usr/local/lib/python3.7/site-packages (from tskit==0.1.6.dev0) (1.15.4)\n",
      "Requirement already satisfied: h5py in /usr/local/lib/python3.7/site-packages (from tskit==0.1.6.dev0) (2.8.0)\n",
      "Requirement already satisfied: svgwrite in /usr/local/lib/python3.7/site-packages (from tskit==0.1.6.dev0) (1.2.1)\n",
      "Requirement already satisfied: jsonschema in /usr/local/lib/python3.7/site-packages (from tskit==0.1.6.dev0) (2.6.0)\n",
      "Requirement already satisfied: six in /usr/local/lib/python3.7/site-packages (from h5py->tskit==0.1.6.dev0) (1.11.0)\n",
      "Requirement already satisfied: pyparsing>=2.0.1 in /usr/local/lib/python3.7/site-packages (from svgwrite->tskit==0.1.6.dev0) (2.3.0)\n",
      "Building wheels for collected packages: tskit\n",
      "  Running setup.py bdist_wheel for tskit ... \u001b[?25ldone\n",
      "\u001b[?25h  Stored in directory: /Users/gtsambos/Library/Caches/pip/wheels/ee/67/b5/0a568d34bc8bb222f35ac2c0dd4e3152f678f1595763d27df1\n",
      "Successfully built tskit\n",
      "Installing collected packages: tskit\n",
      "  Found existing installation: tskit 0.1.6.dev0\n",
      "    Uninstalling tskit-0.1.6.dev0:\n",
      "      Successfully uninstalled tskit-0.1.6.dev0\n",
      "Successfully installed tskit-0.1.6.dev0\n"
     ]
    }
   ],
   "source": [
    "import sys\n",
    "!{sys.executable} -m pip install tskit-0.1.6.dev0.tar.gz"
   ]
  },
  {
   "cell_type": "code",
   "execution_count": 3,
   "metadata": {},
   "outputs": [],
   "source": [
    "import tskit"
   ]
  },
  {
   "cell_type": "code",
   "execution_count": 4,
   "metadata": {},
   "outputs": [],
   "source": [
    "# !{sys.executable} -m pip install msprime --upgrade"
   ]
  },
  {
   "cell_type": "markdown",
   "metadata": {},
   "source": [
    "## Step 1: Simulate recent history forward-in-time with SLiM.\n",
    "\n",
    "See the [SLiM Manual](http://benhaller.com/slim/SLiM_Manual.pdf) for how to use the Eidos scripting language.\n",
    "\n",
    "Here's a script for a simple two-way admixture under neutrality."
   ]
  },
  {
   "cell_type": "code",
   "execution_count": null,
   "metadata": {},
   "outputs": [],
   "source": [
    "slim_script = '''\n",
    "// set up a simple neutral simulation\n",
    "initialize() {\n",
    "\n",
    "//\tsetwd(\"/Users/gtsambos/Projects/AdmixtureSim/5.msprime.and.slim\");\n",
    "\t\n",
    "\t// Set constants.\n",
    "\tdefineConstant(\"chromLength\", 49999999);\n",
    "\tdefineConstant(\"p0Size\", 1000);\n",
    "\tdefineConstant(\"p1Size\", 1000);\n",
    "\tdefineConstant(\"p2Size\", 1000);\n",
    "\tdefineConstant(\"p0Prop\", 10/100);\n",
    "\tdefineConstant(\"p1Prop\", 1 - p0Prop);\n",
    "\n",
    "\tinitializeSLiMModelType(\"WF\");\n",
    "\tinitializeSLiMOptions(keepPedigrees = T); // Keep pedigree information\n",
    "\tinitializeTreeSeq();\n",
    "\tinitializeMutationRate(0);\n",
    "\t\n",
    "\t// m1 mutation type: neutral\n",
    "\tinitializeMutationType(\"m1\", 0.5, \"f\", 0.0);\n",
    "\t\n",
    "\t// g1 genomic element type: uses m1 for all mutations\n",
    "\tinitializeGenomicElementType(\"g1\", m1, 1.0);\n",
    "\t\n",
    "\t// uniform chromosome of length 100 kb\n",
    "\tinitializeGenomicElement(g1, 0, chromLength);\n",
    "\t\n",
    "\t// read in chr22 recombination map.\n",
    "\t// See example 6.1.2 in the SLiM manual.\n",
    "\tlines = readFile(\"examples/chr22.recombination_map\");\n",
    "\tlines = lines[1:(size(lines)-1)]; // remove header\n",
    "\trates = NULL;\n",
    "\tends = NULL;\n",
    "\t\n",
    "\tfor (line in lines)\n",
    "\t{\n",
    "\t\tcomponents = strsplit(line, \" \");\n",
    "\t\tends = c(ends, asInteger(components[1]));\n",
    "\t\trates = c(rates, asFloat(components[2]));\n",
    "\t}\n",
    "\t\n",
    "\tends = ends - 1; // final coordinate in file is 50 000 000\n",
    "\trates = rates * 1e-8;\n",
    "\t\n",
    "\tinitializeRecombinationRate(rates, ends);\n",
    "\t\n",
    "}\n",
    "\n",
    "1 early(){\n",
    "\tsim.addSubpop(\"p0\", p0Size);\n",
    "\tsim.addSubpop(\"p1\", p1Size);\n",
    "\n",
    "//\tsim.treeSeqRememberIndividuals(sim.subpopulations.individuals);\n",
    "}\n",
    "\n",
    "1 late() { \n",
    "\t\n",
    "\t// Add admixing population.\n",
    "\tsim.addSubpop(\"p2\", p2Size);\n",
    "\tp2.setMigrationRates(c(p0,p1),c(p0Prop, p1Prop));\n",
    "\t\n",
    "}\n",
    "\n",
    "\n",
    "2 late() {\n",
    "\n",
    "\tp2.setMigrationRates(c(p0,p1),c(0.0,0.0));\n",
    "\n",
    "}\n",
    "\n",
    "\n",
    "// save the tree output after 200 generations.\n",
    "200 late() {\n",
    " \tsim.treeSeqOutput(\"examples/recent-history.trees\");\n",
    "\tsim.simulationFinished();\n",
    "}\n",
    "'''\n",
    "\n",
    "slim_file = open(\"examples/slim_script.slim\", \"w\")\n",
    "slim_file.writelines(slim_script)\n",
    "slim_file.close()"
   ]
  },
  {
   "cell_type": "markdown",
   "metadata": {},
   "source": [
    "The `simulate_recent_history` function is a wrapper for running SLiM via python."
   ]
  },
  {
   "cell_type": "code",
   "execution_count": null,
   "metadata": {},
   "outputs": [],
   "source": [
    "slime.simulate_recent_history(\"examples/slim_script.slim\", outFile = \"examples/recent-history.trees\",\n",
    "                             logFile = \"examples/recent-history.log\")"
   ]
  },
  {
   "cell_type": "markdown",
   "metadata": {},
   "source": [
    "Cool. Time to move on."
   ]
  },
  {
   "cell_type": "markdown",
   "metadata": {},
   "source": [
    "## Step 2 (optional): subsample population"
   ]
  },
  {
   "cell_type": "markdown",
   "metadata": {},
   "source": [
    "`SLiM` generates a tree sequence that holds the chromosomes of *entire populations*. If you are interested in only a subset of the simulated population, this tree sequence will contain a lot of redundant history. In this step, I choose a random sample of individuals from the generated tree sequence and simplify the tree sequence so that only the history relevant to these samples is retained."
   ]
  },
  {
   "cell_type": "markdown",
   "metadata": {},
   "source": [
    "Note: the below *needs* to be `tskit`, because the correct version of simplify isn't available for `msprime` tree sequences."
   ]
  },
  {
   "cell_type": "code",
   "execution_count": null,
   "metadata": {},
   "outputs": [],
   "source": [
    "ts = tskit.load(\"examples/recent-history.trees\")"
   ]
  },
  {
   "cell_type": "code",
   "execution_count": null,
   "metadata": {},
   "outputs": [],
   "source": [
    "new_ts = slime.TreeSequenceToSample(\n",
    "    ts = ts,\n",
    "    populations_to_sample_from = [2],\n",
    "    sample_sizes = [10]\n",
    ")"
   ]
  },
  {
   "cell_type": "code",
   "execution_count": null,
   "metadata": {},
   "outputs": [],
   "source": [
    "ts = new_ts.subsample()"
   ]
  },
  {
   "cell_type": "code",
   "execution_count": null,
   "metadata": {},
   "outputs": [],
   "source": [
    "ts.dump(\"examples/script-2.trees\")"
   ]
  },
  {
   "cell_type": "markdown",
   "metadata": {},
   "source": [
    "## Step 3: recapitation"
   ]
  },
  {
   "cell_type": "markdown",
   "metadata": {},
   "source": [
    "Next, we add the ancient history of the samples. This is generated with `msprime`.\n",
    "This step is basically just a wrapper for the `recapitate` function in `pyslim`.\n",
    "\n",
    "To do this, we need to add in some parameters pertaining to the ancient history of our sample.\n",
    "\n",
    "Note that, atm, you must specify a uniform recombination rate for the ancient history. This [may change in the future](https://github.com/tskit-dev/pyslim/blob/master/README.md#things-you-cannot-do)."
   ]
  },
  {
   "cell_type": "markdown",
   "metadata": {},
   "source": [
    "Another error that I should put in here is population sizes - it would be very easy to mess this up, especially someone who doesn't reallly understand that one of the methods does real and the other does effective population sizes.\n",
    "\n",
    "Can you automate the creation of the population configurations to get over this problem.\n",
    "\n",
    "** This is something I should consider doing! Do it later **"
   ]
  },
  {
   "cell_type": "code",
   "execution_count": null,
   "metadata": {},
   "outputs": [],
   "source": [
    "rho = 1e-8 # recombination rate. \n",
    "N0 = 1e4 # population size\n",
    "divergenceGen = 1000"
   ]
  },
  {
   "cell_type": "code",
   "execution_count": null,
   "metadata": {},
   "outputs": [],
   "source": [
    "######################\n",
    "# POPULATION HISTORY #\n",
    "######################\n",
    "\n",
    "\n",
    "# Population IDs\n",
    "population_configurations = [\n",
    "    # CEU\n",
    "    msprime.PopulationConfiguration(\n",
    "      #  sample_size = sampleSize, \n",
    "        initial_size = N0,\n",
    "        growth_rate = 0),\n",
    "    # YRI\n",
    "    msprime.PopulationConfiguration(\n",
    "       # sample_size = sampleSize,                                \n",
    "        initial_size = N0,                                \n",
    "        growth_rate = 0),\n",
    "    # ASW - needed as a 'dummy'\n",
    "    msprime.PopulationConfiguration(\n",
    "        sample_size = 0,                                                              \n",
    "        growth_rate = 0)\n",
    "]\n",
    "\n",
    "demographic_events = [\n",
    "\tmsprime.MassMigration(\n",
    "\t\ttime=divergenceGen,\n",
    "\t\tsource = 1,\n",
    "\t\tdestination = 0,\n",
    "\t\tproportion = 1.0),\n",
    "\tmsprime.MigrationRateChange(time = divergenceGen,\n",
    "\t\trate = 0)\n",
    "]"
   ]
  },
  {
   "cell_type": "markdown",
   "metadata": {},
   "source": [
    "Weird. what is different about loading in the tree seq, versus just carrying it on from the previous operation?\n",
    "\n",
    "The difference seems to be that one keeps the treeSeq as a `tskit` object, whereas loading the file in uses the msprime library and so ensures that a `msprime`-compliant tree is used.\n",
    "\n",
    "Ah - no - it was my version of msprime. All fixed now!\n",
    "\n",
    "Ideally, everything that you can do under ecapitate can be done here as well."
   ]
  },
  {
   "cell_type": "code",
   "execution_count": null,
   "metadata": {},
   "outputs": [],
   "source": [
    "ts1 = pyslim.SlimTreeSequence.load_tables(ts.tables)\n"
   ]
  },
  {
   "cell_type": "code",
   "execution_count": null,
   "metadata": {},
   "outputs": [],
   "source": [
    "recap = ts1.recapitate(\n",
    "\trecombination_rate=rho,\n",
    "\tpopulation_configurations = population_configurations,\n",
    "\tdemographic_events=demographic_events,\n",
    "    keep_first_generation = True\n",
    "\t)"
   ]
  },
  {
   "cell_type": "markdown",
   "metadata": {},
   "source": [
    "As written (ie. without extra checks), this is currently probably runnable without having any extra wrapper functions. (Recapitate is already a wrapper function of sorts). "
   ]
  },
  {
   "cell_type": "markdown",
   "metadata": {},
   "source": [
    "## Step 4: add in variation"
   ]
  },
  {
   "cell_type": "markdown",
   "metadata": {},
   "source": [
    "For the moment, let's assume all variation is neutral."
   ]
  },
  {
   "cell_type": "code",
   "execution_count": null,
   "metadata": {},
   "outputs": [],
   "source": [
    "mu = 1e-8 # rate of neutral mutations"
   ]
  },
  {
   "cell_type": "code",
   "execution_count": null,
   "metadata": {},
   "outputs": [],
   "source": [
    "mut_ts = pyslim.SlimTreeSequence(msprime.mutate(recap, rate=mu, keep=True))"
   ]
  },
  {
   "cell_type": "markdown",
   "metadata": {},
   "source": [
    "## Wrapper for the simulation"
   ]
  },
  {
   "cell_type": "code",
   "execution_count": null,
   "metadata": {},
   "outputs": [],
   "source": [
    "import slime"
   ]
  },
  {
   "cell_type": "code",
   "execution_count": null,
   "metadata": {},
   "outputs": [],
   "source": [
    "mysim = slime.AdmixtureSimulation(\"examples/slim_script.slim\", \n",
    "                                  populations_to_sample_from = [2], sample_sizes = [10])"
   ]
  },
  {
   "cell_type": "code",
   "execution_count": null,
   "metadata": {},
   "outputs": [],
   "source": [
    "ts = mysim.debugger()"
   ]
  },
  {
   "cell_type": "code",
   "execution_count": null,
   "metadata": {},
   "outputs": [],
   "source": [
    "ts1 = mysim.go()"
   ]
  },
  {
   "cell_type": "code",
   "execution_count": null,
   "metadata": {},
   "outputs": [],
   "source": []
  }
 ],
 "metadata": {
  "kernelspec": {
   "display_name": "Python 3",
   "language": "python",
   "name": "python3"
  },
  "language_info": {
   "codemirror_mode": {
    "name": "ipython",
    "version": 3
   },
   "file_extension": ".py",
   "mimetype": "text/x-python",
   "name": "python",
   "nbconvert_exporter": "python",
   "pygments_lexer": "ipython3",
   "version": "3.7.1"
  }
 },
 "nbformat": 4,
 "nbformat_minor": 2
}
