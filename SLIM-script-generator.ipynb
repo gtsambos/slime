{
 "cells": [
  {
   "cell_type": "markdown",
   "metadata": {},
   "source": [
    "Aiming to have a package that generates simple SLiM scripts with all the functionality that msprime has + mutations.\n",
    "\n",
    "### Example scenario:\n",
    "\n",
    "A chromosome of length 10 000 000 bp.\n",
    "Admixed population is a 70:30 mixture of 2 ancestral populations 50 generations ago, and 2\\% (0.6\\%:1.4\\%) of the population in each generation are replaced by migrants from these unadmixed populations."
   ]
  },
  {
   "cell_type": "code",
   "execution_count": 1,
   "metadata": {},
   "outputs": [],
   "source": [
    "import slime\n",
    "import msprime"
   ]
  },
  {
   "cell_type": "markdown",
   "metadata": {},
   "source": [
    "Let's initialize the simulation. We will simulate chromosomes of 10 000 000 bp from a population that was produced by admixture 50 generations ago, and save the result into a file `examples/example-script.slim`."
   ]
  },
  {
   "cell_type": "code",
   "execution_count": 2,
   "metadata": {},
   "outputs": [
    {
     "name": "stdout",
     "output_type": "stream",
     "text": [
      "\n",
      "initialize(){\n",
      "    initializeSLiMModelType(\"WF\");\n",
      "    initializeTreeSeq();\n",
      "    initializeMutationRate(0);\n",
      "    initializeMutationType(\"m0\", 0.500000, \"f\", 0.000000);\n",
      "    initializeGenomicElementType(\"g1\", c(m0), c(1.0));\n",
      "    initializeGenomicElement(g1, 0, 10000000);\n",
      "}    \n",
      "\n",
      "1 early(){      \n",
      "}\n",
      "\n",
      "50 late(){\n",
      "    sim.treeSeqOutput(\"examples/example-script.slim\");\n",
      "    sim.simulationFinished();\n",
      "}\n"
     ]
    }
   ],
   "source": [
    "my_script = slime.RecentHistory(final_gen = 50, chrom_length = 1e7, \n",
    "                                outfile = \"examples/example-script.slim\")\n",
    "\n",
    "my_script.print_script()"
   ]
  },
  {
   "cell_type": "markdown",
   "metadata": {},
   "source": [
    "Next, let's add in the population configurations.\n",
    "The ancestral populations must be added first.\n",
    "We'll make `msprime.PopulationConfiguration` objects for these and add them to the script using the `add_reference_population()` method.\n",
    "\n",
    "Note that the growth rates won't be added into the script until later."
   ]
  },
  {
   "cell_type": "code",
   "execution_count": 3,
   "metadata": {},
   "outputs": [
    {
     "name": "stdout",
     "output_type": "stream",
     "text": [
      "\n",
      "initialize(){\n",
      "    initializeSLiMModelType(\"WF\");\n",
      "    initializeTreeSeq();\n",
      "    initializeMutationRate(0);\n",
      "    initializeMutationType(\"m0\", 0.500000, \"f\", 0.000000);\n",
      "    initializeGenomicElementType(\"g1\", c(m0), c(1.0));\n",
      "    initializeGenomicElement(g1, 0, 10000000);\n",
      "}    \n",
      "\n",
      "1 early(){      \n",
      "    sim.addSubpop(\"p0\", 1000);\n",
      "    sim.addSubpop(\"p1\", 1000);\n",
      "}\n",
      "\n",
      "50 late(){\n",
      "    sim.treeSeqOutput(\"examples/example-script.slim\");\n",
      "    sim.simulationFinished();\n",
      "}\n"
     ]
    }
   ],
   "source": [
    "config_references = msprime.PopulationConfiguration(0, 1000, growth_rate = 0.05)\n",
    "\n",
    "my_script.add_reference_population(config_references, 'Population0')\n",
    "my_script.add_reference_population(config_references, 'Population1')\n",
    "\n",
    "my_script.print_script()"
   ]
  },
  {
   "cell_type": "markdown",
   "metadata": {},
   "source": [
    "Next, let's add in the admixed population. We'll need to input a `msprime.PopulationConfiguration` object as well as a list of admixture proportions."
   ]
  },
  {
   "cell_type": "code",
   "execution_count": 4,
   "metadata": {},
   "outputs": [
    {
     "name": "stdout",
     "output_type": "stream",
     "text": [
      "\n",
      "initialize(){\n",
      "    initializeSLiMModelType(\"WF\");\n",
      "    initializeTreeSeq();\n",
      "    initializeMutationRate(0);\n",
      "    initializeMutationType(\"m0\", 0.500000, \"f\", 0.000000);\n",
      "    initializeGenomicElementType(\"g1\", c(m0), c(1.0));\n",
      "    initializeGenomicElement(g1, 0, 10000000);\n",
      "}    \n",
      "\n",
      "1 early(){      \n",
      "    sim.addSubpop(\"p0\", 1000);\n",
      "    sim.addSubpop(\"p1\", 1000);\n",
      "}\n",
      "\n",
      "1 late(){\n",
      "    sim.addSubpop(\"p2\", 1000);\n",
      "    p2.setMigrationRates(c(p0,p1),c(0.300000,0.700000));\n",
      "}\n",
      "\n",
      "2 late(){\n",
      "    p2.setMigrationRates(c(p0,p1,p2),c(0.006000,0.014000,0.980000));\n",
      "}\n",
      "\n",
      "50 late(){\n",
      "    sim.treeSeqOutput(\"examples/example-script.slim\");\n",
      "    sim.simulationFinished();\n",
      "}\n"
     ]
    }
   ],
   "source": [
    "config_admixed = msprime.PopulationConfiguration(0, 1000, growth_rate = 0.01)\n",
    "\n",
    "my_script.add_admixed_population(config_admixed, 'PopulationAdm', [0.3, 0.7],\n",
    "                                single_pulse = False, migration_rate = 0.02)\n",
    "\n",
    "my_script.print_script()"
   ]
  },
  {
   "cell_type": "markdown",
   "metadata": {},
   "source": [
    "Finally, we'll add in other demographic events. (Still working on this bit).\n",
    "\n",
    "For example, say we want to change the growth rate of the admixed population in the 20th and 40th generation. We'll make a `msprime.PopulationParametersChange` object and add this to the script using the `add_demographic_events()` method."
   ]
  },
  {
   "cell_type": "code",
   "execution_count": 5,
   "metadata": {},
   "outputs": [
    {
     "name": "stdout",
     "output_type": "stream",
     "text": [
      "\n",
      "initialize(){\n",
      "    initializeSLiMModelType(\"WF\");\n",
      "    initializeTreeSeq();\n",
      "    initializeMutationRate(0);\n",
      "    initializeMutationType(\"m0\", 0.500000, \"f\", 0.000000);\n",
      "    initializeGenomicElementType(\"g1\", c(m0), c(1.0));\n",
      "    initializeGenomicElement(g1, 0, 10000000);\n",
      "}    \n",
      "\n",
      "1 early(){      \n",
      "    sim.addSubpop(\"p0\", 1000);\n",
      "    sim.addSubpop(\"p1\", 1000);\n",
      "}\n",
      "\n",
      "1 late(){\n",
      "    sim.addSubpop(\"p2\", 1000);\n",
      "    p2.setMigrationRates(c(p0,p1),c(0.300000,0.700000));\n",
      "}\n",
      "\n",
      "2 late(){\n",
      "    p2.setMigrationRates(c(p0,p1,p2),c(0.006000,0.014000,0.980000));\n",
      "}\n",
      "\n",
      "20:39 {\n",
      "    pop 0 has growth rate 0.050000;\n",
      "    pop 1 has growth rate 0.050000;\n",
      "    pop 2 has growth rate 0.300000;\n",
      "}\n",
      "\n",
      "40:49 {\n",
      "    pop 0 has growth rate 0.050000;\n",
      "    pop 1 has growth rate 0.050000;\n",
      "    pop 2 has growth rate 0.100000;\n",
      "}\n",
      "\n",
      "50 late(){\n",
      "    sim.treeSeqOutput(\"examples/example-script.slim\");\n",
      "    sim.simulationFinished();\n",
      "}\n"
     ]
    }
   ],
   "source": [
    "change1 = msprime.PopulationParametersChange(20, growth_rate =  .3, population_id = 2)\n",
    "change2 = msprime.PopulationParametersChange(40, growth_rate =  .1, population_id = 2)\n",
    "\n",
    "my_script.add_demographic_events([change1, change2])\n",
    "\n",
    "my_script.print_script()"
   ]
  },
  {
   "cell_type": "markdown",
   "metadata": {},
   "source": []
  }
 ],
 "metadata": {
  "kernelspec": {
   "display_name": "Python 3",
   "language": "python",
   "name": "python3"
  },
  "language_info": {
   "codemirror_mode": {
    "name": "ipython",
    "version": 3
   },
   "file_extension": ".py",
   "mimetype": "text/x-python",
   "name": "python",
   "nbconvert_exporter": "python",
   "pygments_lexer": "ipython3",
   "version": "3.7.1"
  }
 },
 "nbformat": 4,
 "nbformat_minor": 2
}
