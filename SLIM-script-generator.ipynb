{
 "cells": [
  {
   "cell_type": "markdown",
   "metadata": {},
   "source": [
    "This notebook shows how to use the SLiM script generator to create valid SLiM scripts of admixture.  \n",
    "\n",
    "Jerome has suggested that I should be able to run this in basic ways without knowing any SLiM, but with a 'SLiM hook' that enables more advanced SLiM users, like Peter Ralph, to enter in their own lines of code.\n",
    "\n",
    "First, let's consider what all SLiM scripts will (need to) have.\n",
    "\n",
    "At their core, SLiM scripts contain lines of code inside particular 'generations'. The SLiM code inserter should, at minimum, search for the relevant 'generations' and if they don't exist, create it.\n",
    "\n",
    "Note that all SLiM scripts must have an `initialize` and `1 early() {}` generation, so there should be there by default.\n",
    "\n",
    "An example SLiM script to look at while I'm working on this: \n",
    "\n",
    "```\n",
    "initialize() {\n",
    "\t\n",
    "\t// Set constants.\n",
    "\tdefineConstant(\"chromLength\", input_chrom_length);\n",
    "\tdefineConstant(\"p0Size\", 1000);\n",
    "\tdefineConstant(\"p1Size\", 1000);\n",
    "\tdefineConstant(\"p2Size\", 1000);\n",
    "\tdefineConstant(\"p0Prop\", input_p0Prop);\n",
    "\tdefineConstant(\"p1Prop\", 1 - p0Prop);\n",
    "\n",
    "\tinitializeSLiMModelType(\"WF\");\n",
    "\tinitializeSLiMOptions(keepPedigrees = T); // Keep pedigree information\n",
    "\tinitializeTreeSeq();\n",
    "\tinitializeMutationRate(0);\n",
    "\t\n",
    "\t// m1 mutation type: neutral\n",
    "\tinitializeMutationType(\"m1\", 0.5, \"f\", 0.0);\n",
    "\t\n",
    "\t// g1 genomic element type: uses m1 for all mutations\n",
    "\tinitializeGenomicElementType(\"g1\", m1, 1.0);\n",
    "\t\n",
    "\t// uniform chromosome of length 100 kb\n",
    "\tinitializeGenomicElement(g1, 0, chromLength);\n",
    "\t\n",
    "\t// read in chr22 recombination map.\n",
    "\t// See example 6.1.2 in the SLiM manual.\n",
    "\tlines = readFile(\"examples/chr22.recombination_map\");\n",
    "\tlines = lines[1:(size(lines)-1)]; // remove header\n",
    "\trates = NULL;\n",
    "\tends = NULL;\n",
    "\t\n",
    "\tfor (line in lines)\n",
    "\t{\n",
    "\t\tcomponents = strsplit(line, \" \");\n",
    "\t\tends = c(ends, asInteger(components[1]));\n",
    "\t\trates = c(rates, asFloat(components[2]));\n",
    "\t}\n",
    "\t\n",
    "\tends = ends - 1; // final coordinate in file is 50 000 000\n",
    "\trates = rates * 1e-8;\n",
    "\t\n",
    "\tinitializeRecombinationRate(rates, ends);\n",
    "\t\n",
    "}\n",
    "\n",
    "1 early(){\n",
    "\tsim.addSubpop(\"p0\", p0Size);\n",
    "\tsim.addSubpop(\"p1\", p1Size);\n",
    "\n",
    "//\tsim.treeSeqRememberIndividuals(sim.subpopulations.individuals);\n",
    "}\n",
    "\n",
    "1 late() { \n",
    "\t\n",
    "\t// Add admixing population.\n",
    "\tsim.addSubpop(\"p2\", p2Size);\n",
    "\tp2.setMigrationRates(c(p0,p1),c(p0Prop, p1Prop));\n",
    "\t\n",
    "}\n",
    "\n",
    "\n",
    "2 late() {\n",
    "\n",
    "\tp2.setMigrationRates(c(p0,p1),c(0.0,0.0));\n",
    "\n",
    "}\n",
    "\n",
    "\n",
    "// save the tree output after 200 generations.\n",
    "200 late() {\n",
    " \tsim.treeSeqOutput(\"examples/recent-history.trees\");\n",
    "\tsim.simulationFinished();\n",
    "}\n",
    "```"
   ]
  },
  {
   "cell_type": "code",
   "execution_count": 1,
   "metadata": {},
   "outputs": [],
   "source": [
    "import re"
   ]
  },
  {
   "cell_type": "code",
   "execution_count": 2,
   "metadata": {},
   "outputs": [],
   "source": [
    "class RecentHistory(object):\n",
    "    \"\"\"Creates a SLiM script of recent history that the user\n",
    "    can feed into SLiMe.\"\"\"\n",
    "    def __init__(self, outfile='recent-history.slim', model_type='WF'):\n",
    "        self.outfile = outfile\n",
    "        self.model_type = model_type\n",
    "        self.script = \"\"\"\n",
    "initialize(){\n",
    "    initializeSLiMModelType(\"%s\");\n",
    "    initializeTreeSeq();\n",
    "}    \n",
    "\n",
    "1 early(){      \n",
    "}\"\"\" % self.model_type\n",
    "    def dump_script(self):\n",
    "        return(self.script)\n",
    "    \n",
    "    def print_script(self):\n",
    "        print(self.script)\n",
    "        \n",
    "    def time_already_in_script(self, generation, time):\n",
    "        if not (time == 'early' or time == 'late'):\n",
    "            StringError(\"The event time must be either 'early' or 'late'.\")\n",
    "        gen_time = \"%i %s()\" % (generation, time)\n",
    "        return(gen_time in self.script)\n",
    "    \n",
    "    def find_event_index(self, generation, time, INSERT_AT_START):\n",
    "        \"\"\"Finds the index of the script at which a new event should\n",
    "        be inserted.\"\"\"\n",
    "        gen_time = \"%i %s(){\" % (generation, time)\n",
    "        gen_location = self.script.find(\"%s\" % gen_time)\n",
    "        start_loc = gen_location + len(gen_time)\n",
    "        if INSERT_AT_START:\n",
    "            return(start_loc)\n",
    "        else:\n",
    "            rest_of_script = self.script[start_loc:]\n",
    "            end_loc = rest_of_script.find('\\n}')\n",
    "            return(start_loc + end_loc)\n",
    "               \n",
    "    def find_time_index(self, generation, time):\n",
    "        \"\"\"Finds the index of the script at which a new generation and\n",
    "        time should be inserted.\"\"\"\n",
    "        regex = re.compile(r\"\\d+ \\bearly\\b\\(\\)\\{|\\d+ \\blate\\b\\(\\)\\{\")\n",
    "        times = regex.findall(self.script)\n",
    "        gen_regex =re.compile(\"\\d+\")\n",
    "        time_regex=re.compile(r\"\\bearly\\b|\\blate\\b\")\n",
    "        BREAK_TRIGGERED = 0\n",
    "        for m in times:\n",
    "            current_gen = int(gen_regex.search(m).group())\n",
    "            current_time = time_regex.search(m).group()\n",
    "#             print(current_gen, current_time)\n",
    "            if current_gen > generation or (current_gen == generation and time == 'early'):\n",
    "                BREAK_TRIGGERED = 1\n",
    "                break\n",
    "        if BREAK_TRIGGERED:\n",
    "            gen_time = \"%i %s(){\" % (current_gen, current_time)\n",
    "            gen_location = self.script.find(\"%s\" % gen_time)\n",
    "        else:\n",
    "            gen_location = len(self.script)\n",
    "        return(gen_location, BREAK_TRIGGERED)\n",
    "        \n",
    "    def add_event(self, generation, time, event, start=False):\n",
    "        if not self.time_already_in_script(generation, time):\n",
    "            time_ind, NOT_AT_END = self.find_time_index(generation, time)\n",
    "            if NOT_AT_END:\n",
    "                new_script = self.script[:time_ind] + \"\"\"%i %s(){\n",
    "}\n",
    "\"\"\" % (generation, time) + \"\\n\" + self.script[time_ind:]\n",
    "            else:\n",
    "                new_script = self.script + \"\\n\" + \"\"\"\n",
    "%i %s(){\n",
    "}\"\"\" % (generation, time)\n",
    "            self.script = new_script\n",
    "        event_ind = self.find_event_index(generation, time, start)\n",
    "        new_script = self.script[:event_ind] + \"\"\"\n",
    "    %s\"\"\" % event + \";\" + self.script[event_ind:]\n",
    "        self.script = new_script\n",
    "        \n",
    "    def add_simulation_end(self, generation):\n",
    "        command_to_save_out = \"sim.treeSeqOutput(\\\"%s\\\")\" % self.outfile\n",
    "        self.add_event(generation, \"late\", command_to_save_out)\n",
    "        self.add_event(generation, \"late\", \"sim.simulationFinished()\")\n",
    "        "
   ]
  },
  {
   "cell_type": "code",
   "execution_count": 3,
   "metadata": {},
   "outputs": [],
   "source": [
    "scr = RecentHistory()"
   ]
  },
  {
   "cell_type": "code",
   "execution_count": 4,
   "metadata": {},
   "outputs": [],
   "source": [
    "scr.add_event(1, 'early', 'start of simulation')"
   ]
  },
  {
   "cell_type": "code",
   "execution_count": 5,
   "metadata": {},
   "outputs": [
    {
     "name": "stdout",
     "output_type": "stream",
     "text": [
      "\n",
      "initialize(){\n",
      "    initializeSLiMModelType(\"WF\");\n",
      "    initializeTreeSeq();\n",
      "}    \n",
      "\n",
      "1 early(){      \n",
      "    start of simulation\n",
      "}\n"
     ]
    }
   ],
   "source": [
    "scr.print_script()"
   ]
  },
  {
   "cell_type": "code",
   "execution_count": 6,
   "metadata": {},
   "outputs": [
    {
     "name": "stdout",
     "output_type": "stream",
     "text": [
      "\n",
      "initialize(){\n",
      "    initializeSLiMModelType(\"WF\");\n",
      "    initializeTreeSeq();\n",
      "}    \n",
      "\n",
      "1 early(){      \n",
      "    start of simulation\n",
      "}\n",
      "\n",
      "3 late(){\n",
      "    the end of the simulation\n",
      "}\n"
     ]
    }
   ],
   "source": [
    "scr.add_event(3, 'late', 'the end of the simulation')\n",
    "scr.print_script()"
   ]
  },
  {
   "cell_type": "code",
   "execution_count": 7,
   "metadata": {},
   "outputs": [
    {
     "data": {
      "text/plain": [
       "'\\ninitialize(){\\n    initializeSLiMModelType(\"WF\");\\n    initializeTreeSeq();\\n}    \\n\\n1 early(){      \\n    start of simulation\\n}\\n\\n3 late(){\\n    the end of the simulation\\n}'"
      ]
     },
     "execution_count": 7,
     "metadata": {},
     "output_type": "execute_result"
    }
   ],
   "source": [
    "scr.dump_script()"
   ]
  },
  {
   "cell_type": "code",
   "execution_count": 8,
   "metadata": {},
   "outputs": [
    {
     "name": "stdout",
     "output_type": "stream",
     "text": [
      "\n",
      "initialize(){\n",
      "    initializeSLiMModelType(\"WF\");\n",
      "    initializeTreeSeq();\n",
      "}    \n",
      "\n",
      "1 early(){      \n",
      "    start of simulation\n",
      "}\n",
      "\n",
      "2 late(){\n",
      "    the middle of the script\n",
      "}\n",
      "\n",
      "3 late(){\n",
      "    the end of the simulation\n",
      "}\n"
     ]
    }
   ],
   "source": [
    "scr.add_event(2, 'late', 'the middle of the script')\n",
    "scr.print_script()"
   ]
  },
  {
   "cell_type": "code",
   "execution_count": 9,
   "metadata": {},
   "outputs": [
    {
     "name": "stdout",
     "output_type": "stream",
     "text": [
      "\n",
      "initialize(){\n",
      "    initializeSLiMModelType(\"WF\");\n",
      "    initializeTreeSeq();\n",
      "}    \n",
      "\n",
      "1 early(){      \n",
      "    start of simulation\n",
      "}\n",
      "\n",
      "2 late(){\n",
      "    the middle of the script\n",
      "}\n",
      "\n",
      "3 late(){\n",
      "    the end of the simulation\n",
      "}\n",
      "\n",
      "5 late(){\n",
      "    the new end of the script\n",
      "}\n"
     ]
    }
   ],
   "source": [
    "scr.add_event(5, 'late', 'the new end of the script')\n",
    "scr.print_script()"
   ]
  },
  {
   "cell_type": "code",
   "execution_count": 10,
   "metadata": {},
   "outputs": [
    {
     "name": "stdout",
     "output_type": "stream",
     "text": [
      "\n",
      "initialize(){\n",
      "    initializeSLiMModelType(\"WF\");\n",
      "    initializeTreeSeq();\n",
      "}    \n",
      "\n",
      "1 early(){      \n",
      "    start of simulation\n",
      "}\n",
      "\n",
      "2 late(){\n",
      "    the middle of the script\n",
      "}\n",
      "\n",
      "3 late(){\n",
      "    the end of the simulation\n",
      "}\n",
      "\n",
      "4 early(){\n",
      "    more middle of the script\n",
      "}\n",
      "\n",
      "5 late(){\n",
      "    the new end of the script\n",
      "}\n"
     ]
    }
   ],
   "source": [
    "scr.add_event(4, 'early', 'more middle of the script')\n",
    "scr.print_script()"
   ]
  },
  {
   "cell_type": "markdown",
   "metadata": {},
   "source": [
    "### Next: let's add in some necessary bits.\n",
    "\n",
    "- output"
   ]
  },
  {
   "cell_type": "code",
   "execution_count": 11,
   "metadata": {},
   "outputs": [
    {
     "name": "stdout",
     "output_type": "stream",
     "text": [
      "\n",
      "initialize(){\n",
      "    initializeSLiMModelType(\"WF\");\n",
      "    initializeTreeSeq();\n",
      "}    \n",
      "\n",
      "1 early(){      \n",
      "    start of simulation\n",
      "}\n",
      "\n",
      "2 late(){\n",
      "    the middle of the script\n",
      "}\n",
      "\n",
      "3 late(){\n",
      "    the end of the simulation\n",
      "}\n",
      "\n",
      "4 early(){\n",
      "    more middle of the script\n",
      "}\n",
      "\n",
      "5 late(){\n",
      "    the new end of the script\n",
      "    sim.treeSeqOutput(\"recent-history.slim\");\n",
      "    sim.simulationFinished();\n",
      "}\n"
     ]
    }
   ],
   "source": [
    "scr.add_simulation_end(5)\n",
    "scr.print_script()"
   ]
  },
  {
   "cell_type": "markdown",
   "metadata": {},
   "source": [
    "It would be super useful to be able to add stuff to the end of the simulations here.\n",
    "Let's play around a bit."
   ]
  },
  {
   "cell_type": "code",
   "execution_count": 12,
   "metadata": {},
   "outputs": [
    {
     "data": {
      "text/plain": [
       "['1 early(){      \\n    start of simulation\\n}\\n\\n2 late(){\\n    the middle of the script\\n}\\n\\n3 late(){\\n    the end of the simulation\\n}\\n\\n4 early(){\\n    more middle of the script\\n}\\n\\n5 late(){\\n    the new end of the script\\n    sim.treeSeqOutput(\"recent-history.slim\");\\n    sim.simulationFinished();\\n}']"
      ]
     },
     "execution_count": 12,
     "metadata": {},
     "output_type": "execute_result"
    }
   ],
   "source": [
    "myscr = scr.dump_script()\n",
    "regex = re.compile(r\"\\d+ \\bearly\\b\\(\\)\\{.+\\}|\\d+ \\blate\\b\\(\\)\\{.+\\}\", flags=re.DOTALL)\n",
    "regex.findall(myscr)"
   ]
  },
  {
   "cell_type": "code",
   "execution_count": 13,
   "metadata": {},
   "outputs": [
    {
     "data": {
      "text/plain": [
       "2"
      ]
     },
     "execution_count": 13,
     "metadata": {},
     "output_type": "execute_result"
    }
   ],
   "source": [
    "str_to_search = \"Bewere the werewolf.\"\n",
    "str_to_search.find('we')"
   ]
  },
  {
   "cell_type": "code",
   "execution_count": 14,
   "metadata": {},
   "outputs": [
    {
     "name": "stdout",
     "output_type": "stream",
     "text": [
      "\n",
      "initialize(){\n",
      "    initializeSLiMModelType(\"WF\");\n",
      "    initializeTreeSeq();\n",
      "}    \n",
      "\n",
      "1 early(){      \n",
      "    start of simulation\n",
      "}\n",
      "\n",
      "2 late(){\n",
      "    the middle of the script\n",
      "}\n",
      "\n",
      "3 late(){\n",
      "    the end of the simulation\n",
      "}\n",
      "\n",
      "4 early(){\n",
      "    more middle of the script\n",
      "}\n",
      "\n",
      "5 late(){\n",
      "    the new end of the script\n",
      "    sim.treeSeqOutput(\"recent-history.slim\");\n",
      "    sim.simulationFinished();\n",
      "    at the end of the end\n",
      "}\n"
     ]
    }
   ],
   "source": [
    "scr.add_event(5, 'late', 'at the end of the end', False)\n",
    "scr.print_script()"
   ]
  },
  {
   "cell_type": "code",
   "execution_count": 22,
   "metadata": {},
   "outputs": [
    {
     "data": {
      "text/plain": [
       "2"
      ]
     },
     "execution_count": 22,
     "metadata": {},
     "output_type": "execute_result"
    }
   ],
   "source": [
    "myl = [1,2,3,4, 4,5, 3]\n",
    "sorted(myl)\n",
    "myl.index(3)"
   ]
  },
  {
   "cell_type": "code",
   "execution_count": 26,
   "metadata": {},
   "outputs": [
    {
     "name": "stdout",
     "output_type": "stream",
     "text": [
      "\n",
      "initialize(){\n",
      "    initializeSLiMModelType(\"WF\");\n",
      "    initializeTreeSeq();\n",
      "}    \n",
      "\n",
      "1 early(){      \n",
      "    start of simulation\n",
      "}\n",
      "\n",
      "2 late(){\n",
      "    the middle of the script\n",
      "}\n",
      "\n",
      "3 late(){\n",
      "    first event\n",
      "    second event\n",
      "    third event\n",
      "}\n",
      "\n",
      "4 early(){\n",
      "    more middle of the script\n",
      "}\n",
      "\n",
      "5 late(){\n",
      "    the end of the script\n",
      "}\n"
     ]
    }
   ],
   "source": [
    "scr = RecentHistory()\n",
    "scr.add_event(1, 'early', 'start of simulation')\n",
    "scr.add_event(3, 'late', 'second event')\n",
    "scr.add_event(3, 'late', 'first event', start=True)\n",
    "scr.add_event(2, 'late', 'the middle of the script')\n",
    "scr.add_event(5, 'late', 'the end of the script')\n",
    "scr.add_event(3, 'late', 'third event')\n",
    "scr.add_event(4, 'early', 'more middle of the script')\n",
    "scr.print_script()"
   ]
  },
  {
   "cell_type": "code",
   "execution_count": null,
   "metadata": {},
   "outputs": [],
   "source": []
  }
 ],
 "metadata": {
  "kernelspec": {
   "display_name": "Python 3",
   "language": "python",
   "name": "python3"
  },
  "language_info": {
   "codemirror_mode": {
    "name": "ipython",
    "version": 3
   },
   "file_extension": ".py",
   "mimetype": "text/x-python",
   "name": "python",
   "nbconvert_exporter": "python",
   "pygments_lexer": "ipython3",
   "version": "3.7.1"
  }
 },
 "nbformat": 4,
 "nbformat_minor": 2
}
